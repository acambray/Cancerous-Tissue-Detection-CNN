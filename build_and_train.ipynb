{
 "cells": [
  {
   "cell_type": "code",
   "execution_count": 3,
   "metadata": {},
   "outputs": [
    {
     "data": {
      "application/javascript": [
       "IPython.notebook.set_autosave_interval(60000)"
      ]
     },
     "metadata": {},
     "output_type": "display_data"
    },
    {
     "name": "stdout",
     "output_type": "stream",
     "text": [
      "Autosaving every 60 seconds\n"
     ]
    },
    {
     "name": "stderr",
     "output_type": "stream",
     "text": [
      "Using TensorFlow backend.\n"
     ]
    }
   ],
   "source": [
    "%matplotlib inline\n",
    "%autosave 60\n",
    "import numpy as np\n",
    "import pandas as pd\n",
    "from glob import glob\n",
    "import os\n",
    "from sklearn.model_selection import train_test_split\n",
    "import shutil\n",
    "import matplotlib.pyplot as plt\n",
    "from keras.preprocessing.image import ImageDataGenerator as kerasImageDataGenerator"
   ]
  },
  {
   "cell_type": "code",
   "execution_count": 1,
   "metadata": {},
   "outputs": [],
   "source": [
    "# DEFINE FUNCTIONAL PARAMETERS\n",
    "train_again = 0\n",
    "split_and_organize = 0     # 1 to organize and split all images by label and to split train/validation, 0 if already done\n",
    "print_model_graph = 1\n",
    "\n",
    "# DEFINE PATHS\n",
    "IMAGES_PATH = 'dataset\\input\\*.tif'\n",
    "LABELS_PATH = r'dataset\\train_labels.csv'\n",
    "TRAINING_PATH = 'training'\n",
    "VALIDATION_PATH = 'validation'\n",
    "MODEL_CHECKPOINT_FILE = 'cancer_detector_nasnes.h5'\n",
    "MODEL_HISTORY_FILE = 'cancer_detector_nasnes.h5'\n",
    "TRAINING_LOGS_FILE = 'training_logs.csv'\n",
    "\n",
    "\n",
    "# DEFINE HYPER-PARAMETERS\n",
    "TRAINING_BATCH_SIZE = 32\n",
    "LR_INITIAL = 0.0001\n",
    "LR_DECAY = 0.00001\n",
    "TRAINING_EPOCHS = 10"
   ]
  },
  {
   "cell_type": "markdown",
   "metadata": {},
   "source": [
    "## Data Generator Functions with Augmentation"
   ]
  },
  {
   "cell_type": "code",
   "execution_count": 4,
   "metadata": {},
   "outputs": [
    {
     "name": "stdout",
     "output_type": "stream",
     "text": [
      "Found 153000 images belonging to 2 classes.\n",
      "Found 17000 images belonging to 2 classes.\n"
     ]
    }
   ],
   "source": [
    "## GENERATOR FUNCTIONS WITH DATA AUGMENTATION\n",
    "# 1. Keras image data generators\n",
    "datagen = kerasImageDataGenerator(\n",
    "                rescale=1./255,\n",
    "                horizontal_flip=True,\n",
    "                vertical_flip=True,\n",
    "                rotation_range=90,\n",
    "                width_shift_range=0.1,\n",
    "                height_shift_range=0.1,\n",
    "                zoom_range=0.2,\n",
    "                shear_range=0.05,\n",
    "                channel_shift_range=0.1)\n",
    "\n",
    "validation_gen = kerasImageDataGenerator(rescale=1./255)\n",
    "\n",
    "# 2. Keras flow from directory\n",
    "train_generator = datagen.flow_from_directory(TRAINING_PATH,\n",
    "                                              target_size=(96, 96),\n",
    "                                              batch_size=TRAINING_BATCH_SIZE,\n",
    "                                              class_mode='binary')\n",
    "\n",
    "validation_generator = validation_gen.flow_from_directory(VALIDATION_PATH,\n",
    "                                                          target_size=(96, 96),\n",
    "                                                          batch_size=TRAINING_BATCH_SIZE,\n",
    "                                                          class_mode='binary')"
   ]
  },
  {
   "cell_type": "markdown",
   "metadata": {},
   "source": [
    "## Model Construction (NASNet Mobile)"
   ]
  },
  {
   "cell_type": "code",
   "execution_count": 6,
   "metadata": {},
   "outputs": [
    {
     "name": "stdout",
     "output_type": "stream",
     "text": [
      "__________________________________________________________________________________________________\n",
      "Layer (type)                    Output Shape         Param #     Connected to                     \n",
      "==================================================================================================\n",
      "input_1 (InputLayer)            (None, 96, 96, 3)    0                                            \n",
      "__________________________________________________________________________________________________\n",
      "NASNet (Model)                  (None, 3, 3, 1056)   4269716     input_1[0][0]                    \n",
      "__________________________________________________________________________________________________\n",
      "global_max_pooling2d_1 (GlobalM (None, 1056)         0           NASNet[1][0]                     \n",
      "__________________________________________________________________________________________________\n",
      "global_average_pooling2d_1 (Glo (None, 1056)         0           NASNet[1][0]                     \n",
      "__________________________________________________________________________________________________\n",
      "flatten_1 (Flatten)             (None, 9504)         0           NASNet[1][0]                     \n",
      "__________________________________________________________________________________________________\n",
      "concatenate_5 (Concatenate)     (None, 11616)        0           global_max_pooling2d_1[0][0]     \n",
      "                                                                 global_average_pooling2d_1[0][0] \n",
      "                                                                 flatten_1[0][0]                  \n",
      "__________________________________________________________________________________________________\n",
      "dropout_1 (Dropout)             (None, 11616)        0           concatenate_5[0][0]              \n",
      "__________________________________________________________________________________________________\n",
      "dense_1 (Dense)                 (None, 1)            11617       dropout_1[0][0]                  \n",
      "==================================================================================================\n",
      "Total params: 4,281,333\n",
      "Trainable params: 4,244,595\n",
      "Non-trainable params: 36,738\n",
      "__________________________________________________________________________________________________\n"
     ]
    }
   ],
   "source": [
    "from keras.applications.xception import Xception\n",
    "from keras.applications.nasnet import NASNetMobile\n",
    "from keras.layers import Input, Concatenate, GlobalMaxPooling2D, GlobalAveragePooling2D, Flatten, Dropout, Dense\n",
    "from keras.models import Model\n",
    "from keras.optimizers import Adam\n",
    "\n",
    "input_shape = (96, 96, 3)\n",
    "\n",
    "inputs = Input(input_shape)\n",
    "\n",
    "base_model = NASNetMobile(include_top=False, input_shape=input_shape)\n",
    "x = base_model(inputs)\n",
    "out1 = GlobalMaxPooling2D()(x)\n",
    "out2 = GlobalAveragePooling2D()(x)\n",
    "out3 = Flatten()(x)\n",
    "outputs = Concatenate(axis=-1)([out1, out2, out3])\n",
    "outputs = Dropout(0.5)(outputs)\n",
    "outputs = Dense(1, activation='sigmoid')(outputs)\n",
    "\n",
    "model = Model(inputs, outputs)\n",
    "model.compile(optimizer=Adam(lr=LR_INITIAL, decay=LR_DECAY), loss='binary_crossentropy', metrics=['accuracy'])\n",
    "model.summary()"
   ]
  },
  {
   "cell_type": "code",
   "execution_count": 10,
   "metadata": {},
   "outputs": [],
   "source": [
    "if print_model_graph == 1:\n",
    "    os.environ[\"PATH\"] += os.pathsep + 'C:\\\\Users\\\\acamb\\\\AppData\\\\Local\\\\Continuum\\\\anaconda3\\\\envs\\\\imperial36\\\\Library\\\\bin\\\\graphviz'\n",
    "\n",
    "    import graphviz\n",
    "    from IPython.display import SVG\n",
    "    from keras.utils.vis_utils import model_to_dot\n",
    "#     display(SVG(model_to_dot(model).create(prog='dot', format='svg')))\n",
    "\n",
    "    from keras.utils.vis_utils import plot_model\n",
    "#     display(plot_model(model, to_file='model_plot.png', show_shapes=True, expand_nested=True, show_layer_names=True))"
   ]
  },
  {
   "cell_type": "markdown",
   "metadata": {},
   "source": [
    "## Training"
   ]
  },
  {
   "cell_type": "code",
   "execution_count": null,
   "metadata": {},
   "outputs": [
    {
     "name": "stdout",
     "output_type": "stream",
     "text": [
      "Epoch 1/10\n",
      "4781/4782 [============================>.] - ETA: 0s - loss: 0.3299 - acc: 0.8606"
     ]
    }
   ],
   "source": [
    "from livelossplot import PlotLossesKeras\n",
    "from keras.callbacks import CSVLogger, ModelCheckpoint\n",
    "\n",
    "# Callbacks\n",
    "checkpoint = ModelCheckpoint(MODEL_CHECKPOINT_FILE, monitor='val_acc', verbose=1, save_best_only=True, mode='max')\n",
    "csv_logger = CSVLogger(TRAINING_LOGS_FILE, append=False, separator=';')\n",
    "\n",
    "# Begin training\n",
    "training_history = model.fit_generator(\n",
    "                            train_generator,\n",
    "                            steps_per_epoch=len(train_generator),\n",
    "                            epochs=TRAINING_EPOCHS,\n",
    "                            verbose=1,\n",
    "                            validation_data=validation_generator,\n",
    "                            validation_steps=len(validation_generator),\n",
    "                            max_queue_size=10,\n",
    "                            callbacks=[PlotLossesKeras(), checkpoint, csv_logger])\n",
    "\n",
    "# Save Model and Training History\n",
    "with open('training_history.pkl', 'wb') as f:\n",
    "    pickle.dump(training_history, f)"
   ]
  },
  {
   "cell_type": "code",
   "execution_count": null,
   "metadata": {},
   "outputs": [],
   "source": [
    "# Plot Training History\n",
    "epochs = [i for i in range(1, len(training_history.history['loss'])+1)]\n",
    "\n",
    "plt.plot(epochs, training_history.history['loss'], label='Train Loss')\n",
    "plt.plot(epochs, training_history.history['val_loss'], label='Validation Loss')\n",
    "plt.legend(loc='best')\n",
    "plt.title('Loss')\n",
    "plt.xlabel('Epochs')\n",
    "plt.show()\n",
    "\n",
    "plt.plot(epochs, training_history.history['acc'], label='Train Loss')\n",
    "plt.plot(epochs, training_history.history['val_acc'], label='Validation Loss')\n",
    "plt.legend(loc='best')\n",
    "plt.title('Accuracy')\n",
    "plt.xlabel('Epochs')\n",
    "plt.show()"
   ]
  },
  {
   "cell_type": "markdown",
   "metadata": {},
   "source": [
    "## Validation Performance: ROC, AUC"
   ]
  },
  {
   "cell_type": "code",
   "execution_count": null,
   "metadata": {},
   "outputs": [],
   "source": [
    "# Validation ROC (TP vs FP)\n",
    "from sklearn.metrics import roc_curve, auc\n",
    "\n",
    "roc_validation_generator = kerasImageDataGenerator(rescale=1./255)\n",
    "roc_validation_generator = roc_validation_generator.flow_from_directory(VALIDATION_PATH,\n",
    "                                                                        target_size=(96,96),\n",
    "                                                                        batch_size=60,\n",
    "                                                                        class_mode='binary',\n",
    "                                                                        shuffle=False)\n",
    "\n",
    "predictions_roc = model.predict_generator(roc_validation_generator, steps=len(roc_validation_generator), verbose=1)\n",
    "\n",
    "# Plot ROC Curve Validation dataset\n",
    "FP, TP, thresh = roc_curve(roc_validation_generator.classes, predictions_roc)\n",
    "AUC = auc(FP, TP)\n",
    "plt.plot([0, 1], [0,1], 'k--')\n",
    "plt.plot(FP, TP, label='AUC = {:.3f}'.format(AUC))\n",
    "plt.xlabel('False Positive Rate')\n",
    "plt.ylabel('True Positive Rate')\n",
    "plt.legend()"
   ]
  }
 ],
 "metadata": {
  "kernelspec": {
   "display_name": "Python 3",
   "language": "python",
   "name": "python3"
  },
  "language_info": {
   "codemirror_mode": {
    "name": "ipython",
    "version": 3
   },
   "file_extension": ".py",
   "mimetype": "text/x-python",
   "name": "python",
   "nbconvert_exporter": "python",
   "pygments_lexer": "ipython3",
   "version": "3.6.7"
  },
  "varInspector": {
   "cols": {
    "lenName": 16,
    "lenType": 16,
    "lenVar": 40
   },
   "kernels_config": {
    "python": {
     "delete_cmd_postfix": "",
     "delete_cmd_prefix": "del ",
     "library": "var_list.py",
     "varRefreshCmd": "print(var_dic_list())"
    },
    "r": {
     "delete_cmd_postfix": ") ",
     "delete_cmd_prefix": "rm(",
     "library": "var_list.r",
     "varRefreshCmd": "cat(var_dic_list()) "
    }
   },
   "types_to_exclude": [
    "module",
    "function",
    "builtin_function_or_method",
    "instance",
    "_Feature"
   ],
   "window_display": false
  }
 },
 "nbformat": 4,
 "nbformat_minor": 2
}
