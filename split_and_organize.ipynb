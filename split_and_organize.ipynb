{
 "cells": [
  {
   "cell_type": "code",
   "execution_count": null,
   "metadata": {},
   "outputs": [],
   "source": [
    "%matplotlib inline\n",
    "%autosave 60\n",
    "import numpy as np\n",
    "import pandas as pd\n",
    "from glob import glob\n",
    "import os\n",
    "from sklearn.model_selection import train_test_split\n",
    "import shutil\n",
    "import matplotlib.pyplot as plt\n",
    "from keras.preprocessing.image import ImageDataGenerator as kerasImageDataGenerator"
   ]
  },
  {
   "cell_type": "code",
   "execution_count": null,
   "metadata": {},
   "outputs": [],
   "source": [
    "# DEFINE FUNCTIONAL PARAMETERS\n",
    "train_again = 0\n",
    "split_and_organize = 0     # 1 to organize and split all images by label and to split train/validation, 0 if already done\n",
    "\n",
    "# DEFINE PATHS\n",
    "IMAGES_PATH = 'dataset\\input\\*.tif'\n",
    "LABELS_PATH = r'dataset\\train_labels.csv'\n",
    "TRAINING_PATH = 'training'\n",
    "VALIDATION_PATH = 'validation'\n",
    "\n",
    "# DEFINE HYPER-PARAMETERS\n",
    "TRAINING_BATCH_SIZE = 32\n",
    "LR_INITIAL = 0.0001\n",
    "LR_DECAY = 0.00001"
   ]
  },
  {
   "cell_type": "code",
   "execution_count": null,
   "metadata": {},
   "outputs": [],
   "source": [
    "# Add path Column                       data_frame = [path]\n",
    "data_frame = pd.DataFrame({'path': glob(IMAGES_PATH)})\n",
    "display(data_frame.head())\n",
    "\n",
    "# Add ID Column (from path)             data_frame = [path, ID]\n",
    "get_id_from_path = lambda x: x.split('\\\\')[2].split('.')[0]\n",
    "data_frame['id'] = data_frame.path.map(get_id_from_path)\n",
    "data_frame.head(5)\n",
    "\n",
    "# Add Label column (from label file)    data_frame = [path, ID, label]\n",
    "labels = pd.read_csv(LABELS_PATH)\n",
    "data_frame = data_frame.merge(labels, on = 'id')\n",
    "data_frame.head()"
   ]
  },
  {
   "cell_type": "code",
   "execution_count": null,
   "metadata": {},
   "outputs": [],
   "source": [
    "## SPLIT DATASET INTO NEG/POS AND TRAIN/VAL\n",
    "negatives = data_frame[data_frame['label'] == 0]\n",
    "positives = data_frame[data_frame['label'] == 1]\n",
    "display('Num of positive samples: ' + str(len(positives)))\n",
    "display('Num of negative samples: ' + str(len(negatives)))\n",
    "negatives = negatives.sample(85000)\n",
    "positives = positives.sample(85000)\n",
    "data_frame = pd.concat([negatives, positives]).reset_index()\n",
    "data_frame = data_frame[['path','id','label']]\n",
    "data_frame.head()\n",
    "\n",
    "## ORGANIZE SAMPLES INTO DIRECTORIES\n",
    "# 1. Create subdirectories\n",
    "for folder in [TRAINING_PATH, VALIDATION_PATH]:\n",
    "    for subfolder in ['0', '1']:\n",
    "        path = os.path.join(folder, subfolder)\n",
    "            os.makedirs(path, exist_ok=True)\n",
    "            \n",
    "# 2. Copy appropriate samples into new organized directories\n",
    "training, validation = train_test_split(data_frame, train_size=0.9, stratify=data_frame['label'])\n",
    "data_frame.set_index('id', inplace=True)\n",
    "\n",
    "n=1\n",
    "for images_and_path in [(training, TRAINING_PATH), (validation, VALIDATION_PATH)]:\n",
    "    images = images_and_path[0]\n",
    "    path = images_and_path[1]\n",
    "    for image in images['id'].values:\n",
    "        file_name = image + '.tif'\n",
    "        label = str(data_frame.loc[image]['label'])\n",
    "        destination = os.path.join(path, label, file_name)\n",
    "        if n % 2000 == 0:\n",
    "            print (str(n) + ' / 170000', end=\"\\r\")\n",
    "        n+=1\n",
    "        if not os.path.exists(destination):\n",
    "            source = os.path.join('dataset\\input', file_name)\n",
    "            shutil.copyfile(source, destination)"
   ]
  }
 ],
 "metadata": {
  "kernelspec": {
   "display_name": "Python 3",
   "language": "python",
   "name": "python3"
  },
  "language_info": {
   "codemirror_mode": {
    "name": "ipython",
    "version": 3
   },
   "file_extension": ".py",
   "mimetype": "text/x-python",
   "name": "python",
   "nbconvert_exporter": "python",
   "pygments_lexer": "ipython3",
   "version": "3.6.7"
  },
  "varInspector": {
   "cols": {
    "lenName": 16,
    "lenType": 16,
    "lenVar": 40
   },
   "kernels_config": {
    "python": {
     "delete_cmd_postfix": "",
     "delete_cmd_prefix": "del ",
     "library": "var_list.py",
     "varRefreshCmd": "print(var_dic_list())"
    },
    "r": {
     "delete_cmd_postfix": ") ",
     "delete_cmd_prefix": "rm(",
     "library": "var_list.r",
     "varRefreshCmd": "cat(var_dic_list()) "
    }
   },
   "types_to_exclude": [
    "module",
    "function",
    "builtin_function_or_method",
    "instance",
    "_Feature"
   ],
   "window_display": false
  }
 },
 "nbformat": 4,
 "nbformat_minor": 2
}
